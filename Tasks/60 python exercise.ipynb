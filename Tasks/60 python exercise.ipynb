{
 "cells": [
  {
   "cell_type": "markdown",
   "id": "759d04ba",
   "metadata": {},
   "source": [
    "**1-Write a Python program to calculate the length of a string using 2 ways"
   ]
  },
  {
   "cell_type": "code",
   "execution_count": 1,
   "id": "e434c950",
   "metadata": {},
   "outputs": [
    {
     "name": "stdout",
     "output_type": "stream",
     "text": [
      "hello\n",
      "5\n",
      "5\n"
     ]
    }
   ],
   "source": [
    "str1= input()\n",
    "\n",
    "#method 1\n",
    "print(len(str1))\n",
    "\n",
    "#method 2\n",
    "count=0\n",
    "for i in str1:\n",
    "    count += 1\n",
    "print(count)"
   ]
  },
  {
   "cell_type": "markdown",
   "id": "d7cc9da7",
   "metadata": {},
   "source": [
    "**2-Write a Python program to get a string made of the first 2 and last 2 characters of a given string. If the string length is less than 2, return the empty string instead (\"##Sample String : 'w3resource'\n",
    "Expected Result : 'w3ce'\n",
    "##Sample String : 'w3'\n",
    "Expected Result : 'w3w3'\n",
    "##Sample String : ' w'\n",
    "Expected Result : Empty String)"
   ]
  },
  {
   "cell_type": "code",
   "execution_count": 5,
   "id": "dafa9dd8",
   "metadata": {},
   "outputs": [
    {
     "name": "stdout",
     "output_type": "stream",
     "text": [
      "w3resource\n",
      "w3ce\n"
     ]
    }
   ],
   "source": [
    "str2= input()\n",
    "\n",
    "if ( len(str2) < 2):\n",
    "    print(\"\")\n",
    "else:\n",
    "    new_str= (str2[0:2]) + (str2[-2:])\n",
    "    print(new_str)"
   ]
  },
  {
   "cell_type": "markdown",
   "id": "1534f956",
   "metadata": {},
   "source": [
    "**3-Write a Python program to add 'ing' at the end of a given string (length should be at least 3). If the given string already ends with 'ing', add 'ly' instead. If the string length of the given string is less than 3, leave it unchanged. (Sample String : 'abc'\n",
    "Expected Result : 'abcing')"
   ]
  },
  {
   "cell_type": "code",
   "execution_count": 17,
   "id": "7ff8cec4",
   "metadata": {},
   "outputs": [
    {
     "name": "stdout",
     "output_type": "stream",
     "text": [
      "abc\n",
      "abcing\n"
     ]
    }
   ],
   "source": [
    "str3= input()\n",
    "\n",
    "if( len(str3) >= 3):\n",
    "    if( str3.endswith(\"ing\") ):\n",
    "        str3= str3 + \"ly\"\n",
    "    else:\n",
    "        str3= str3 + \"ing\"\n",
    "        \n",
    "print(str3)"
   ]
  },
  {
   "cell_type": "markdown",
   "id": "1c0a6627",
   "metadata": {},
   "source": [
    "**4-Write a Python function that takes a list of words and return the longest word and the length of the longest one\n",
    "(Longest word: Exercises\n",
    "Length of the longest word: 9)"
   ]
  },
  {
   "cell_type": "code",
   "execution_count": 12,
   "id": "397341d9",
   "metadata": {},
   "outputs": [
    {
     "name": "stdout",
     "output_type": "stream",
     "text": [
      "length of the longest word (python) is: 6\n"
     ]
    }
   ],
   "source": [
    "def longest_word(l):\n",
    "    length=0 \n",
    "    maximum=0\n",
    "    max_word=\"\"\n",
    "    \n",
    "    for i in l:\n",
    "        length= len(i)\n",
    "        if ( length > maximum ):\n",
    "            maximum= length\n",
    "            max_word= i\n",
    "    return maximum , max_word\n",
    "\n",
    "\n",
    "\n",
    "m , w = longest_word([\"hello\" , \"world\" , \"python\"])\n",
    "print(f\"length of the longest word ({w}) is: {m}\")"
   ]
  },
  {
   "cell_type": "markdown",
   "id": "53a03a6a",
   "metadata": {},
   "source": [
    "**5-Write a Python program to change a given string to a newly string where the first and last chars have been exchanged using 2 ways (Sample String:abca  Expected Result:ebce)"
   ]
  },
  {
   "cell_type": "code",
   "execution_count": 17,
   "id": "fd327d2a",
   "metadata": {},
   "outputs": [
    {
     "name": "stdout",
     "output_type": "stream",
     "text": [
      "abce\n",
      "ebca\n"
     ]
    }
   ],
   "source": [
    "str5= input()\n",
    "\n",
    "new_str5= str5[-1] + str5[1:-1] + str5[0]\n",
    "\n",
    "print(new_str5)"
   ]
  },
  {
   "cell_type": "code",
   "execution_count": 2,
   "id": "285788b4",
   "metadata": {},
   "outputs": [
    {
     "name": "stdout",
     "output_type": "stream",
     "text": [
      "abce\n"
     ]
    },
    {
     "data": {
      "text/plain": [
       "'ebca'"
      ]
     },
     "execution_count": 2,
     "metadata": {},
     "output_type": "execute_result"
    }
   ],
   "source": [
    "def swap2(string):\n",
    "    new_str5= list(string)\n",
    "    new_str5[0] ,new_str5[-1] = new_str5[-1] , new_str5[0]\n",
    "    string = ''.join(new_str5)\n",
    "    \n",
    "    return string\n",
    "\n",
    "str5= input()\n",
    "swap2(str5)"
   ]
  },
  {
   "cell_type": "markdown",
   "id": "25f89808",
   "metadata": {},
   "source": [
    "**6-Write a Python program to remove characters that have odd index values in a given string (Sample String:abca Expected Result:ac)"
   ]
  },
  {
   "cell_type": "code",
   "execution_count": 1,
   "id": "05959bd7",
   "metadata": {},
   "outputs": [
    {
     "name": "stdout",
     "output_type": "stream",
     "text": [
      "abca\n",
      "ac\n"
     ]
    }
   ],
   "source": [
    "str6= input()\n",
    "\n",
    "# new_str= \"\"\n",
    "# for i in range(len(str6)):\n",
    "#     if ( i%2 != 0 ):\n",
    "#         continue\n",
    "#     else:\n",
    "#         new_str += str6[i]\n",
    "        \n",
    "# print(new_str)\n",
    "\n",
    "\n",
    "print(str6[::2])"
   ]
  },
  {
   "cell_type": "markdown",
   "id": "eb16e898",
   "metadata": {},
   "source": [
    "**7-Write a Python program to count the occurrences of each word in a given sentence (Sample String:amr and ahmed are frindes but amr is the tallest Expected Result:2)"
   ]
  },
  {
   "cell_type": "code",
   "execution_count": 13,
   "id": "01ce6cf5",
   "metadata": {},
   "outputs": [
    {
     "name": "stdout",
     "output_type": "stream",
     "text": [
      "amr and ahmed are frindes but amr is the tallest\n",
      "{'amr': 2, 'and': 1, 'ahmed': 1, 'are': 1, 'frindes': 1, 'but': 1, 'is': 1, 'the': 1, 'tallest': 1}\n"
     ]
    }
   ],
   "source": [
    "sen= list (input().split())\n",
    "words= {}\n",
    "\n",
    "\n",
    "for word in sen:\n",
    "    if word in words:\n",
    "        words[word]+= 1\n",
    "    else:\n",
    "        words[word]=1\n",
    "        \n",
    "        \n",
    "print(words)"
   ]
  },
  {
   "cell_type": "markdown",
   "id": "4e8125f1",
   "metadata": {},
   "source": [
    "**8-Write a Python script that takes input from the user and displays that input back in upper and lower cases"
   ]
  },
  {
   "cell_type": "code",
   "execution_count": 21,
   "id": "66c8f778",
   "metadata": {},
   "outputs": [
    {
     "name": "stdout",
     "output_type": "stream",
     "text": [
      "hello\n",
      "upper form: HELLO\n",
      "lower form: hello\n"
     ]
    }
   ],
   "source": [
    "s= input()\n",
    "print(f\"upper form: {s.upper()}\")\n",
    "print(f\"lower form: {s.lower()}\")"
   ]
  },
  {
   "cell_type": "markdown",
   "id": "fcd68aa1",
   "metadata": {},
   "source": [
    "**9-Write a Python function to reverse a string if its length is a multiple of 4"
   ]
  },
  {
   "cell_type": "code",
   "execution_count": 30,
   "id": "0671a931",
   "metadata": {},
   "outputs": [
    {
     "data": {
      "text/plain": [
       "'dcba'"
      ]
     },
     "execution_count": 30,
     "metadata": {},
     "output_type": "execute_result"
    }
   ],
   "source": [
    "def rev(s):\n",
    "    if( len(s) % 4 == 0):\n",
    "        s= s[::-1]\n",
    "    return s\n",
    "\n",
    "rev(\"abcd\")"
   ]
  },
  {
   "cell_type": "markdown",
   "id": "b577c68d",
   "metadata": {},
   "source": [
    "**10- Write a Python program to remove a newline in Python"
   ]
  },
  {
   "cell_type": "code",
   "execution_count": 14,
   "id": "8d1807a6",
   "metadata": {},
   "outputs": [
    {
     "name": "stdout",
     "output_type": "stream",
     "text": [
      "hello world hello world\n"
     ]
    }
   ],
   "source": [
    "def remove_newline(s):\n",
    "    return s.replace(\"\\n\" , \" \")\n",
    "\n",
    "res= remove_newline(\"hello world\\nhello world\")\n",
    "print(res)"
   ]
  },
  {
   "cell_type": "markdown",
   "id": "80db5ae0",
   "metadata": {},
   "source": [
    "**11-Write a Python program to check whether a string starts with specified characters"
   ]
  },
  {
   "cell_type": "code",
   "execution_count": 16,
   "id": "f9ca427e",
   "metadata": {},
   "outputs": [
    {
     "name": "stdout",
     "output_type": "stream",
     "text": [
      "enter the specified character and the string: s shahd\n"
     ]
    },
    {
     "data": {
      "text/plain": [
       "True"
      ]
     },
     "execution_count": 16,
     "metadata": {},
     "output_type": "execute_result"
    }
   ],
   "source": [
    "def start_char(char , string):\n",
    "    if( st.startswith(char)):\n",
    "        return True\n",
    "    else:\n",
    "        return False\n",
    "    \n",
    "char , st =input(\"enter the specified character and the string: \").split()\n",
    "start_char( char , st)"
   ]
  },
  {
   "cell_type": "markdown",
   "id": "593a68db",
   "metadata": {},
   "source": [
    "**12- Write a Python program to add prefix text to all of the lines in a string"
   ]
  },
  {
   "cell_type": "code",
   "execution_count": 17,
   "id": "d2e46ada",
   "metadata": {},
   "outputs": [
    {
     "name": "stdout",
     "output_type": "stream",
     "text": [
      "Hello, my name is shahd\n",
      "Hello, i am an AI student\n",
      "Hello, my id is 21-0000\n"
     ]
    }
   ],
   "source": [
    "def prefix(string , prefix):\n",
    "    lines= string.split('\\n')\n",
    "    prefixed_lines = []\n",
    "    for line in lines:\n",
    "        prefixed_lines.append( prefix + line)\n",
    "    return '\\n'.join(prefixed_lines)\n",
    "\n",
    "example= \"\"\"my name is shahd\n",
    "i am an AI student\n",
    "my id is 21-0000\"\"\"\n",
    "\n",
    "prefixed_example = prefix(example, \"Hello, \")\n",
    "print(prefixed_example)"
   ]
  },
  {
   "cell_type": "markdown",
   "id": "86fa1543",
   "metadata": {},
   "source": [
    "**13-Write a Python program to print the following numbers up to 2 decimal places"
   ]
  },
  {
   "cell_type": "code",
   "execution_count": 21,
   "id": "14138521",
   "metadata": {},
   "outputs": [
    {
     "name": "stdout",
     "output_type": "stream",
     "text": [
      "Enter a number: 4.9786\n"
     ]
    },
    {
     "data": {
      "text/plain": [
       "'4.98'"
      ]
     },
     "execution_count": 21,
     "metadata": {},
     "output_type": "execute_result"
    }
   ],
   "source": [
    "def two_decimal(number):\n",
    "    return \"{:.2f}\".format(number)\n",
    "    \n",
    "num= float(input(\"Enter a number: \"))\n",
    "\n",
    "two_decimal(num)"
   ]
  },
  {
   "cell_type": "markdown",
   "id": "452c0ab0",
   "metadata": {},
   "source": [
    "**14-Write a Python program to print the following numbers up to 2 decimal places with a sign"
   ]
  },
  {
   "cell_type": "code",
   "execution_count": 22,
   "id": "4c48448b",
   "metadata": {},
   "outputs": [
    {
     "name": "stdout",
     "output_type": "stream",
     "text": [
      "Enter a number: +2.1934\n"
     ]
    },
    {
     "data": {
      "text/plain": [
       "'+2.19'"
      ]
     },
     "execution_count": 22,
     "metadata": {},
     "output_type": "execute_result"
    }
   ],
   "source": [
    "def two_decimal_sign(number):\n",
    "    return \"{:+.2f}\".format(number)\n",
    "    \n",
    "num= float(input(\"Enter a number: \"))\n",
    "\n",
    "two_decimal_sign(num)"
   ]
  },
  {
   "cell_type": "markdown",
   "id": "32b1811a",
   "metadata": {},
   "source": [
    "**15-Write a Python program to display a number with a comma separator"
   ]
  },
  {
   "cell_type": "code",
   "execution_count": 24,
   "id": "226b358e",
   "metadata": {},
   "outputs": [
    {
     "name": "stdout",
     "output_type": "stream",
     "text": [
      "Enter a number: 100000\n"
     ]
    },
    {
     "data": {
      "text/plain": [
       "'100,000'"
      ]
     },
     "execution_count": 24,
     "metadata": {},
     "output_type": "execute_result"
    }
   ],
   "source": [
    "def comma_separator(number):\n",
    "    return \"{:,}\".format(number)\n",
    "    \n",
    "num= int(input(\"Enter a number: \"))\n",
    "\n",
    "comma_separator(num)"
   ]
  },
  {
   "cell_type": "markdown",
   "id": "0477f487",
   "metadata": {},
   "source": [
    "**16-Write a Python program to reverse a string using 2 ways"
   ]
  },
  {
   "cell_type": "code",
   "execution_count": 2,
   "id": "aa8beec8",
   "metadata": {},
   "outputs": [
    {
     "data": {
      "text/plain": [
       "'olleh'"
      ]
     },
     "execution_count": 2,
     "metadata": {},
     "output_type": "execute_result"
    }
   ],
   "source": [
    "def reverse(string):\n",
    "    return string[::-1]\n",
    "\n",
    "reverse(\"hello\")"
   ]
  },
  {
   "cell_type": "code",
   "execution_count": 4,
   "id": "3e6d6d64",
   "metadata": {},
   "outputs": [
    {
     "name": "stdout",
     "output_type": "stream",
     "text": [
      "hello\n",
      "olleh\n"
     ]
    }
   ],
   "source": [
    "print(\"\".join(reversed(input())))"
   ]
  },
  {
   "cell_type": "markdown",
   "id": "5afc3166",
   "metadata": {},
   "source": [
    " **17-Write a Python program to count repeated characters in a string (hint:use dictionary)"
   ]
  },
  {
   "cell_type": "code",
   "execution_count": 7,
   "id": "515a469c",
   "metadata": {},
   "outputs": [
    {
     "name": "stdout",
     "output_type": "stream",
     "text": [
      "enter the string hello\n",
      "1\n",
      "{'l': 2}\n"
     ]
    }
   ],
   "source": [
    "st= input(\"enter the string \")\n",
    "repeated=[]\n",
    "chars= {}\n",
    "\n",
    "for i in st:\n",
    "    if ( ( i not in repeated ) and ( st.count(i) > 1) ):\n",
    "        repeated.append(i)\n",
    "        chars[i]= st.count(i)\n",
    "\n",
    "print(len(repeated))\n",
    "print(chars)"
   ]
  },
  {
   "cell_type": "markdown",
   "id": "ae14e4e5",
   "metadata": {},
   "source": [
    "**18-Write a Python program to find the first non-repeating character in a given string"
   ]
  },
  {
   "cell_type": "code",
   "execution_count": 25,
   "id": "8c8454e2",
   "metadata": {},
   "outputs": [
    {
     "name": "stdout",
     "output_type": "stream",
     "text": [
      "aabccd\n"
     ]
    },
    {
     "data": {
      "text/plain": [
       "'b'"
      ]
     },
     "execution_count": 25,
     "metadata": {},
     "output_type": "execute_result"
    }
   ],
   "source": [
    "def non_repeated(string):\n",
    "    char= None\n",
    "    for i in s:\n",
    "        if(s.count(i) == 1):\n",
    "            char=i\n",
    "            break\n",
    "    return char\n",
    "\n",
    "s= input()\n",
    "non_repeated(s)"
   ]
  },
  {
   "cell_type": "markdown",
   "id": "3adf5669",
   "metadata": {},
   "source": [
    "**19-Write a Python program to remove spaces from a given string"
   ]
  },
  {
   "cell_type": "code",
   "execution_count": 6,
   "id": "b4f22602",
   "metadata": {},
   "outputs": [
    {
     "name": "stdout",
     "output_type": "stream",
     "text": [
      "Hello World\n",
      "HelloWorld\n"
     ]
    }
   ],
   "source": [
    "print(input().replace(\" \" , \"\"))"
   ]
  },
  {
   "cell_type": "markdown",
   "id": "734de60c",
   "metadata": {},
   "source": [
    "**20-Write a Python program to count the number of non-empty substrings of a given string"
   ]
  },
  {
   "cell_type": "code",
   "execution_count": 15,
   "id": "ef3f2274",
   "metadata": {},
   "outputs": [
    {
     "name": "stdout",
     "output_type": "stream",
     "text": [
      "abcd\n"
     ]
    },
    {
     "data": {
      "text/plain": [
       "10"
      ]
     },
     "execution_count": 15,
     "metadata": {},
     "output_type": "execute_result"
    }
   ],
   "source": [
    "def substrings(string):             \n",
    "    sub=[]\n",
    "    for i in range(len(string)): \n",
    "        for j in range (i+1 , len(string)+1):\n",
    "            new_s= string[i:j]\n",
    "            sub.append(new_s)\n",
    "    \n",
    "    return len(sub)\n",
    "            \n",
    "st= input()\n",
    "substrings(st)"
   ]
  },
  {
   "cell_type": "markdown",
   "id": "509998e2",
   "metadata": {},
   "source": [
    "**21-write a Python program to swap first and last element of any list."
   ]
  },
  {
   "cell_type": "code",
   "execution_count": 19,
   "id": "68692d7f",
   "metadata": {},
   "outputs": [
    {
     "data": {
      "text/plain": [
       "[4, 2, 3, 1]"
      ]
     },
     "execution_count": 19,
     "metadata": {},
     "output_type": "execute_result"
    }
   ],
   "source": [
    "def swap_list(l):\n",
    "    l[0] , l[-1] = l[-1] , l[0]\n",
    "    return l\n",
    "\n",
    "swap_list([1,2,3,4])"
   ]
  },
  {
   "cell_type": "markdown",
   "id": "959e0837",
   "metadata": {},
   "source": [
    "**22-Given a list in Python and provided the positions of the elements, write a program to swap the two elements in the list. (Input : List = [23, 65, 19, 90], pos1 = 1, pos2 = 3\n",
    "Output : [19, 65, 23, 90])"
   ]
  },
  {
   "cell_type": "code",
   "execution_count": 46,
   "id": "225d8c6d",
   "metadata": {},
   "outputs": [
    {
     "name": "stdout",
     "output_type": "stream",
     "text": [
      "Enter two positions you want to swap1 3\n",
      "23 65 19 90\n"
     ]
    },
    {
     "data": {
      "text/plain": [
       "['19', '65', '23', '90']"
      ]
     },
     "execution_count": 46,
     "metadata": {},
     "output_type": "execute_result"
    }
   ],
   "source": [
    "def swap_list1(l , pos1 ,pos2):\n",
    "    l[pos1-1] , l[pos2-1] = l[pos2-1] , l[pos1-1]\n",
    "    return l\n",
    "\n",
    "pos1 , pos2 = map(int , input(\"Enter two positions you want to swap\").split())\n",
    "numbers= list(input().split())\n",
    "swap_list1(numbers , pos1 , pos2)"
   ]
  },
  {
   "cell_type": "markdown",
   "id": "66fc6682",
   "metadata": {},
   "source": [
    "**23- search for the all ways to know the length of the list"
   ]
  },
  {
   "cell_type": "code",
   "execution_count": 26,
   "id": "e557ee69",
   "metadata": {},
   "outputs": [
    {
     "name": "stdout",
     "output_type": "stream",
     "text": [
      "Enter the list element: 1 2 3 4 5\n",
      "5\n"
     ]
    }
   ],
   "source": [
    "#method 1\n",
    "print(len(list(input(\"Enter the list element: \").split())))"
   ]
  },
  {
   "cell_type": "code",
   "execution_count": 29,
   "id": "95b32b0e",
   "metadata": {},
   "outputs": [
    {
     "name": "stdout",
     "output_type": "stream",
     "text": [
      "Enter the list element: 1 2 3 4 5 6 7 \n"
     ]
    },
    {
     "data": {
      "text/plain": [
       "7"
      ]
     },
     "execution_count": 29,
     "metadata": {},
     "output_type": "execute_result"
    }
   ],
   "source": [
    "#method 2\n",
    "def list_length(l):\n",
    "    count=0\n",
    "    for i in l:\n",
    "        count += 1\n",
    "    return count\n",
    "\n",
    "li= list(input(\"Enter the list element: \").split())\n",
    "list_length(li)"
   ]
  },
  {
   "cell_type": "code",
   "execution_count": 31,
   "id": "d4b1665e",
   "metadata": {},
   "outputs": [
    {
     "name": "stdout",
     "output_type": "stream",
     "text": [
      "Enter the list element: 1 2 3 4\n"
     ]
    },
    {
     "data": {
      "text/plain": [
       "4"
      ]
     },
     "execution_count": 31,
     "metadata": {},
     "output_type": "execute_result"
    }
   ],
   "source": [
    "#method 3\n",
    "def list_length(l):\n",
    "    return sum(1 for _ in l)\n",
    "\n",
    "li= list(input(\"Enter the list element: \").split())\n",
    "list_length(li)"
   ]
  },
  {
   "cell_type": "code",
   "execution_count": 28,
   "id": "63ff8b43",
   "metadata": {},
   "outputs": [],
   "source": [
    "**24-write a Python code to find the Maximum number of list of numbers."
   ]
  },
  {
   "cell_type": "code",
   "execution_count": 32,
   "id": "15f342de",
   "metadata": {},
   "outputs": [
    {
     "data": {
      "text/plain": [
       "19"
      ]
     },
     "execution_count": 32,
     "metadata": {},
     "output_type": "execute_result"
    }
   ],
   "source": [
    "def max_element(l):\n",
    "    maximum= l[0]\n",
    "    for i in range(1,len(l)):\n",
    "        if(l[i] > maximum):\n",
    "            maximum= l[i]\n",
    "    return maximum\n",
    "\n",
    "max_element([4,19,5,2,10])"
   ]
  },
  {
   "cell_type": "code",
   "execution_count": 1,
   "id": "2ad039aa",
   "metadata": {},
   "outputs": [
    {
     "name": "stdout",
     "output_type": "stream",
     "text": [
      "2 10 4 6 9\n",
      "10\n"
     ]
    }
   ],
   "source": [
    "print(max(list(map(int , input().split()))))"
   ]
  },
  {
   "cell_type": "code",
   "execution_count": null,
   "id": "1a89b9d3",
   "metadata": {},
   "outputs": [],
   "source": [
    "**25-write a Python code to find the Minimum number of list of numbers."
   ]
  },
  {
   "cell_type": "code",
   "execution_count": 62,
   "id": "21f8cbd6",
   "metadata": {},
   "outputs": [
    {
     "data": {
      "text/plain": [
       "2"
      ]
     },
     "execution_count": 62,
     "metadata": {},
     "output_type": "execute_result"
    }
   ],
   "source": [
    "def min_element(l):\n",
    "    minimum= l[0]\n",
    "    for i in range(1,len(l)):\n",
    "        if(l[i] < minimum):\n",
    "            minimum= l[i]\n",
    "    return minimum\n",
    "\n",
    "min_element([4,19,5,2,10])"
   ]
  },
  {
   "cell_type": "code",
   "execution_count": 32,
   "id": "40bb7751",
   "metadata": {},
   "outputs": [
    {
     "name": "stdout",
     "output_type": "stream",
     "text": [
      "1 2 5 7 0\n",
      "0\n"
     ]
    }
   ],
   "source": [
    "print(min(list(map(int , input().split()))))"
   ]
  },
  {
   "cell_type": "markdown",
   "id": "96822d96",
   "metadata": {},
   "source": [
    "**26-search for if an elem is existing in list"
   ]
  },
  {
   "cell_type": "code",
   "execution_count": 17,
   "id": "51ca5c9a",
   "metadata": {},
   "outputs": [
    {
     "name": "stdout",
     "output_type": "stream",
     "text": [
      "Enter the list of numbers: 1 2 3 4 5\n",
      "Enter the number you want to find: 10\n"
     ]
    },
    {
     "data": {
      "text/plain": [
       "'this number not found'"
      ]
     },
     "execution_count": 17,
     "metadata": {},
     "output_type": "execute_result"
    }
   ],
   "source": [
    "def search( l , key):\n",
    "    pos= \"this number not found\"\n",
    "    for i in l:\n",
    "        if( i == key):\n",
    "            pos= l.index(i)\n",
    "            break\n",
    "    return pos\n",
    "\n",
    "nums= list(map(int , input(\"Enter the list of numbers: \").split()))\n",
    "key = int(input(\"Enter the number you want to find: \"))\n",
    "\n",
    "search(nums , key)"
   ]
  },
  {
   "cell_type": "code",
   "execution_count": 23,
   "id": "45933e20",
   "metadata": {},
   "outputs": [
    {
     "name": "stdout",
     "output_type": "stream",
     "text": [
      "Enter the list of numbers: 1 2 3\n",
      "Enter the number you want to find: 3\n"
     ]
    },
    {
     "data": {
      "text/plain": [
       "2"
      ]
     },
     "execution_count": 23,
     "metadata": {},
     "output_type": "execute_result"
    }
   ],
   "source": [
    "def search( l , key):\n",
    "    pos= 0\n",
    "    try:\n",
    "        pos= l.index( key )\n",
    "        \n",
    "    except:\n",
    "        print(\"Number not found\")\n",
    "        \n",
    "    else:  \n",
    "        return pos\n",
    "\n",
    "nums= list(map(int , input(\"Enter the list of numbers: \").split()))\n",
    "key= int(input(\"Enter the number you want to find: \"))\n",
    "\n",
    "search(nums , key)"
   ]
  },
  {
   "cell_type": "markdown",
   "id": "d9557da7",
   "metadata": {},
   "source": [
    "**27- clear python list using different ways"
   ]
  },
  {
   "cell_type": "code",
   "execution_count": 49,
   "id": "b69858a3",
   "metadata": {},
   "outputs": [
    {
     "data": {
      "text/plain": [
       "[]"
      ]
     },
     "execution_count": 49,
     "metadata": {},
     "output_type": "execute_result"
    }
   ],
   "source": [
    "y=[1,2,3,4]\n",
    "\n",
    "#method 1\n",
    "y.clear()\n",
    "\n",
    "#method 2\n",
    "# y= []\n",
    "\n",
    "#method 3\n",
    "# y= y[:0]\n",
    "\n",
    "y"
   ]
  },
  {
   "cell_type": "markdown",
   "id": "52160e88",
   "metadata": {},
   "source": [
    "**28-remove duplicated elements from a list"
   ]
  },
  {
   "cell_type": "code",
   "execution_count": 27,
   "id": "5e362228",
   "metadata": {},
   "outputs": [
    {
     "name": "stdout",
     "output_type": "stream",
     "text": [
      "1 1 4 5 4 6 3 6 5\n",
      "[1, 3, 4, 5, 6]\n"
     ]
    }
   ],
   "source": [
    "nums= list(map(int , input().split()))\n",
    "new_list= list(set(nums))\n",
    "print(new_list)"
   ]
  },
  {
   "cell_type": "markdown",
   "id": "282337f7",
   "metadata": {},
   "source": [
    "**29-Given list values and keys list, convert these values to key value pairs in form of list of dictionaries. (Input : test_list = [“Gfg”, 3, “is”, 8], key_list = [“name”, “id”]\n",
    "Output : [{‘name’: ‘Gfg’, ‘id’: 3}, {‘name’: ‘is’, ‘id’: 8}])"
   ]
  },
  {
   "cell_type": "code",
   "execution_count": 33,
   "id": "4d4e2d28",
   "metadata": {},
   "outputs": [
    {
     "data": {
      "text/plain": [
       "{'name': 'shahd', 'age': 21, 'hobby': 'programming', 'id': '21-0000'}"
      ]
     },
     "execution_count": 33,
     "metadata": {},
     "output_type": "execute_result"
    }
   ],
   "source": [
    "keys= [\"name\" , \"age\" , \"hobby\" , \"id\"]\n",
    "values= [\"shahd\" , 21 , \"programming\" , \"21-0000\"]\n",
    "dic={} \n",
    "\n",
    "for key , value in zip(keys , values):\n",
    "    dic[key]=value\n",
    "\n",
    "dic"
   ]
  },
  {
   "cell_type": "markdown",
   "id": "c26b6e9f",
   "metadata": {},
   "source": [
    "**30-write a python program to count unique values inside a list using different ways"
   ]
  },
  {
   "cell_type": "code",
   "execution_count": 10,
   "id": "72132667",
   "metadata": {},
   "outputs": [
    {
     "name": "stdout",
     "output_type": "stream",
     "text": [
      "4 7 3 7 4 2 0 9 10\n",
      "5\n"
     ]
    }
   ],
   "source": [
    "l= list(input().split())\n",
    "unique_values= []\n",
    "\n",
    "for i in l:\n",
    "    if (l.count(i) == 1 and i not in unique_values):\n",
    "        unique_values.append(i)\n",
    "\n",
    "print(len(unique_values))"
   ]
  },
  {
   "cell_type": "markdown",
   "id": "fed6677c",
   "metadata": {},
   "source": [
    "**31-write a python program Extract all elements with Frequency greater than K (Input : test_list = [4, 6, 4, 3, 3, 4, 3, 4, 3, 8], K = 3 \n",
    "Output : [4, 3] )"
   ]
  },
  {
   "cell_type": "code",
   "execution_count": 9,
   "id": "d81f3f9d",
   "metadata": {},
   "outputs": [
    {
     "name": "stdout",
     "output_type": "stream",
     "text": [
      "Enter frequency value 3\n",
      "enter the list of numbers 4 6 4 3 3 4 3 4 3 8\n",
      "[3, 4]\n"
     ]
    }
   ],
   "source": [
    "k = int(input(\"Enter frequency value \"))\n",
    "l= list(map(int , input(\"enter the list of numbers \").split()))\n",
    "new_set= set()\n",
    "\n",
    "for i in l:\n",
    "    if( l.count(i) > k):\n",
    "        new_set.add(i)\n",
    "        \n",
    "print(list(new_set))"
   ]
  },
  {
   "cell_type": "code",
   "execution_count": 36,
   "id": "abd4cd5e",
   "metadata": {},
   "outputs": [
    {
     "name": "stdout",
     "output_type": "stream",
     "text": [
      "Enter frequency value 3\n",
      "enter the list of numbers 4 6 4 3 3 4 3 4 3 8\n"
     ]
    },
    {
     "data": {
      "text/plain": [
       "[4, 3]"
      ]
     },
     "execution_count": 36,
     "metadata": {},
     "output_type": "execute_result"
    }
   ],
   "source": [
    "def remove_kfreq( l , k ):\n",
    "    greater_k=[]\n",
    "    for i in l :\n",
    "        if i not in greater_k and l.count(i) > k :\n",
    "            greater_k.append(i)\n",
    "    return greater_k\n",
    "\n",
    "k = int(input(\"Enter frequency value \"))\n",
    "l= list(map(int , input(\"enter the list of numbers \").split()))\n",
    "\n",
    "remove_kfreq( l , k )"
   ]
  },
  {
   "cell_type": "markdown",
   "id": "caca5224",
   "metadata": {},
   "source": [
    "**32-write a python program to find the Strongest Neighbour (Input: 1 2 2 3 4 5\n",
    "Output: 2 2 3 4 5)"
   ]
  },
  {
   "cell_type": "code",
   "execution_count": 58,
   "id": "39fbd9b2",
   "metadata": {},
   "outputs": [
    {
     "name": "stdout",
     "output_type": "stream",
     "text": [
      "Enter the list of numbers 1 2 2 3 4 5\n"
     ]
    },
    {
     "data": {
      "text/plain": [
       "[2, 2, 3, 4, 5]"
      ]
     },
     "execution_count": 58,
     "metadata": {},
     "output_type": "execute_result"
    }
   ],
   "source": [
    "l= list(map(int , input(\"Enter the list of numbers \").split()))\n",
    "strong_n=0\n",
    "strongest_neighbour=[]\n",
    "\n",
    "for i in range (1 , len(l)):\n",
    "    strong_n= max( l[i] , l[i-1])\n",
    "    strongest_neighbour.append(strong_n)\n",
    "\n",
    "strongest_neighbour"
   ]
  },
  {
   "cell_type": "markdown",
   "id": "a9fa8baf",
   "metadata": {},
   "source": [
    "**33-write a Python Program to print all Possible Combinations from the three Digits (Input: [1, 2, 3]\n",
    "Output:\n",
    "1 2 3 ##\n",
    "1 3 2 ##\n",
    "2 1 3 ##\n",
    "2 3 1 ##\n",
    "3 1 2 ##\n",
    "3 2 1)"
   ]
  },
  {
   "cell_type": "code",
   "execution_count": 117,
   "id": "8c520a76",
   "metadata": {},
   "outputs": [
    {
     "name": "stdout",
     "output_type": "stream",
     "text": [
      "1 2 3\n",
      "[[1, 2, 3], [1, 3, 2], [2, 1, 3], [2, 3, 1], [3, 1, 2], [3, 2, 1]]\n"
     ]
    }
   ],
   "source": [
    "num= list(map(int , input().split() ))\n",
    "new_num= []\n",
    "new_num2= []\n",
    "combinations=[] \n",
    "\n",
    "for i in range( 0 , len(num)):\n",
    "    new_num.append(num[i])\n",
    "    new_num2.append(num[i])\n",
    "    remain= num.copy()\n",
    "    remain.remove(num[i])\n",
    "    new_num += remain\n",
    "    new_num2 += remain[::-1]\n",
    "    combinations.append(new_num)\n",
    "    combinations.append(new_num2)\n",
    "    new_num=[]\n",
    "    new_num2=[]\n",
    "            \n",
    "print(combinations)"
   ]
  },
  {
   "cell_type": "code",
   "execution_count": 116,
   "id": "24f4dde1",
   "metadata": {},
   "outputs": [
    {
     "data": {
      "text/plain": [
       "[[1, 2, 3], [1, 3, 2], [2, 1, 3], [2, 3, 1], [3, 1, 2], [3, 2, 1]]"
      ]
     },
     "execution_count": 116,
     "metadata": {},
     "output_type": "execute_result"
    }
   ],
   "source": [
    "from itertools import permutations \n",
    "def per( l ):\n",
    "    result= []\n",
    "    for perm in permutations(l):\n",
    "        result.append(list(perm))\n",
    "    return result\n",
    "\n",
    "per([1,2,3])"
   ]
  },
  {
   "cell_type": "markdown",
   "id": "5288bb89",
   "metadata": {},
   "source": [
    "**34-write a Python program to find all the Combinations in the list with the given condition (Input: test_list = [1,2,3] \n",
    "Output: \n",
    " [1], [1, 2], [1, 2, 3], [1, 3]\n",
    " [2], [2, 3], [3])"
   ]
  },
  {
   "cell_type": "code",
   "execution_count": 115,
   "id": "59b89646",
   "metadata": {},
   "outputs": [
    {
     "data": {
      "text/plain": [
       "[[1], [2], [3], [1, 2], [1, 3], [2, 3], [1, 2, 3]]"
      ]
     },
     "execution_count": 115,
     "metadata": {},
     "output_type": "execute_result"
    }
   ],
   "source": [
    "from itertools import combinations\n",
    "\n",
    "def find_combinations(l):\n",
    "    result = []\n",
    "    \n",
    "    for i in range(1, len(l)+1):\n",
    "        for combin in combinations(l ,i):\n",
    "            result.append(list(combin))\n",
    "    return result\n",
    "\n",
    "find_combinations([1,2,3])"
   ]
  },
  {
   "cell_type": "markdown",
   "id": "39973705",
   "metadata": {},
   "source": [
    "**35-write a Python program to get all unique combinations of two Lists (List_1 = [\"a\",\"b\"]\n",
    "List_2 = [1,2]\n",
    "Unique_combination = [[('a',1),('b',2)],[('a',2),('b',1)]] )"
   ]
  },
  {
   "cell_type": "code",
   "execution_count": 12,
   "id": "8c4ba22b",
   "metadata": {},
   "outputs": [
    {
     "name": "stdout",
     "output_type": "stream",
     "text": [
      "Enter the element of first list: a b c\n",
      "Enter the element of secound list: 1 2 3\n"
     ]
    },
    {
     "data": {
      "text/plain": [
       "[['a', '1'],\n",
       " ['a', '2'],\n",
       " ['a', '3'],\n",
       " ['b', '1'],\n",
       " ['b', '2'],\n",
       " ['b', '3'],\n",
       " ['c', '1'],\n",
       " ['c', '2'],\n",
       " ['c', '3']]"
      ]
     },
     "execution_count": 12,
     "metadata": {},
     "output_type": "execute_result"
    }
   ],
   "source": [
    "def unique_combinations(l1 , l2):\n",
    "    element= []\n",
    "    combinations=[]\n",
    "    \n",
    "    for i in l1:\n",
    "        for j in l2:\n",
    "            combinations.append([i ,j])\n",
    "    return combinations\n",
    "\n",
    "list1= list(input(\"Enter the element of first list: \").split())\n",
    "list2= list(input(\"Enter the element of secound list: \").split())\n",
    "\n",
    "unique_combinations( list1 , list2 )"
   ]
  },
  {
   "cell_type": "markdown",
   "id": "25199af5",
   "metadata": {},
   "source": [
    "**36-Remove all the occurrences of an element from a list in Python (Input : 1 1 2 3 4 5 1 2 1 \n",
    "\n",
    "**Output : 2 3 4 5 2)"
   ]
  },
  {
   "cell_type": "code",
   "execution_count": 11,
   "id": "6dc4c2ba",
   "metadata": {},
   "outputs": [
    {
     "name": "stdout",
     "output_type": "stream",
     "text": [
      "Enter the list of numbers: 1 1 2 3 4 5 1 2 1\n",
      "Enter the number you want to remove: 1\n"
     ]
    },
    {
     "data": {
      "text/plain": [
       "[2, 3, 4, 5, 2]"
      ]
     },
     "execution_count": 11,
     "metadata": {},
     "output_type": "execute_result"
    }
   ],
   "source": [
    "def remove_ocurrence( l , element):\n",
    "    l= [i for i in l if i != element]\n",
    "    return l\n",
    "\n",
    "numbers= list(map(int , input(\"Enter the list of numbers: \").split()))\n",
    "num= int(input(\"Enter the number you want to remove: \"))\n",
    "remove_ocurrence(numbers , num)"
   ]
  },
  {
   "cell_type": "markdown",
   "id": "bf1a3c93",
   "metadata": {},
   "source": [
    "**37-write a python program to Replace index elements with elements in Other List (The original list 1 is : [‘Gfg’, ‘is’, ‘best’] The original list 2 is : [0, 1, 2, 1, 0, 0, 0, 2, 1, 1, 2, 0] The lists after index elements replacements is : [‘Gfg’, ‘is’, ‘best’, ‘is’, ‘Gfg’, ‘Gfg’, ‘Gfg’, ‘best’, ‘is’, ‘is’, ‘best’, ‘Gfg’])"
   ]
  },
  {
   "cell_type": "code",
   "execution_count": 22,
   "id": "fdd66a71",
   "metadata": {},
   "outputs": [
    {
     "name": "stdout",
     "output_type": "stream",
     "text": [
      "['Gfg', 'is', 'best', 'is', 'Gfg', 'Gfg', 'Gfg', 'best', 'is', 'is', 'best', 'Gfg']\n"
     ]
    }
   ],
   "source": [
    "def replacement(values , indicies):\n",
    "    for i in range(0 , len(indicies)):\n",
    "        indicies[i]= values[indicies[i]]\n",
    "\n",
    "        \n",
    "    return indicies\n",
    "\n",
    "list1= [\"Gfg\", \"is\", \"best\"]\n",
    "list2= [0, 1, 2, 1, 0, 0, 0, 2, 1, 1, 2, 0]\n",
    "\n",
    "res = replacement(list1 , list2)\n",
    "print(res)"
   ]
  },
  {
   "cell_type": "markdown",
   "id": "af0f56e8",
   "metadata": {},
   "source": [
    "**38- write python program to Retain records with N occurrences of K(Input : test_list = [(4, 5, 5, 4), (5, 4, 3)], K = 5, N = 2 \n",
    "Output : [(4, 5, 5, 4)]\n",
    "Input : test_list = [(4, 5, 5, 4), (5, 4, 3)], K = 5, N = 3 \n",
    "Output : [] )"
   ]
  },
  {
   "cell_type": "code",
   "execution_count": 28,
   "id": "67b06671",
   "metadata": {},
   "outputs": [
    {
     "data": {
      "text/plain": [
       "[4, 5, 5, 4]"
      ]
     },
     "execution_count": 28,
     "metadata": {},
     "output_type": "execute_result"
    }
   ],
   "source": [
    "def ocurrence_record(l , k , n):\n",
    "    for tub in l:\n",
    "        if ( tub.count(k) == n):\n",
    "            res= list(tub)\n",
    "            return res\n",
    "        \n",
    "ocurrence_record([(4, 5, 5, 4), (5, 4, 3)] , 5 ,2)"
   ]
  },
  {
   "cell_type": "markdown",
   "id": "de76f183",
   "metadata": {},
   "source": [
    "**39-write a Python Program to Sort the list according to the column using lambda\n",
    "array = [[1, 3, 3], [2, 1, 2], [3, 2, 1]]\n",
    "Output :\n",
    "Sorted array specific to column 0, [[1, 3, 3], [2, 1, 2], [3, 2, 1]]\n",
    "Sorted array specific to column 1, [[2, 1, 2], [3, 2, 1], [1, 3, 3]]\n",
    "Sorted array specific to column 2, [[3, 2, 1], [2, 1, 2], [1, 3, 3]]"
   ]
  },
  {
   "cell_type": "code",
   "execution_count": 101,
   "id": "dc883308",
   "metadata": {},
   "outputs": [
    {
     "name": "stdout",
     "output_type": "stream",
     "text": [
      "Sorted array specific to column 0, [[1, 3, 3], [2, 1, 2], [3, 2, 1]]\n",
      "Sorted array specific to column 1, [[2, 1, 2], [3, 2, 1], [1, 3, 3]]\n",
      "Sorted array specific to column 2, [[3, 2, 1], [2, 1, 2], [1, 3, 3]]\n"
     ]
    }
   ],
   "source": [
    "def sort_column(array):\n",
    "    for i in range(len(array)):\n",
    "        new= sorted(array ,key= lambda column: column[i])\n",
    "        print(f\"Sorted array specific to column {i}, {new}\")\n",
    "        \n",
    "sort_column([[1, 3, 3], [2, 1, 2], [3, 2, 1]])"
   ]
  },
  {
   "cell_type": "code",
   "execution_count": null,
   "id": "d2e7b31f",
   "metadata": {},
   "outputs": [],
   "source": [
    "**40- write a program to Sort Python Dictionaries by Key or Value\n",
    "Input:\n",
    "{'ravi': 10, 'rajnish': 9, 'sanjeev': 15, 'yash': 2, 'suraj': 32}\n",
    "\n",
    "Output: \n",
    "{'rajnish': 9, 'ravi': 10, 'sanjeev': 15, 'suraj': 32, 'yash': 2}"
   ]
  },
  {
   "cell_type": "code",
   "execution_count": 28,
   "id": "a96db4a0",
   "metadata": {},
   "outputs": [
    {
     "data": {
      "text/plain": [
       "{'yash': 2, 'rajnish': 9, 'ravi': 10, 'sanjeev': 15, 'suraj': 32}"
      ]
     },
     "execution_count": 28,
     "metadata": {},
     "output_type": "execute_result"
    }
   ],
   "source": [
    "def dict_sort( dic , key_value):\n",
    "    if ( key_value== \"k\" or key_value== \"K\" ):\n",
    "        dic= dict(sorted(dic.items() , key= lambda item: item[1]))\n",
    "        \n",
    "    \n",
    "    elif(key_value== \"v\" or key_value== \"v\" ):\n",
    "        dic= dict(sorted(dic.items()))\n",
    "\n",
    "    return dic\n",
    "\n",
    "\n",
    "dict_sort({'ravi': 10, 'rajnish': 9, 'sanjeev': 15, 'yash': 2, 'suraj': 32} , \"k\")"
   ]
  },
  {
   "cell_type": "markdown",
   "id": "ec63c23a",
   "metadata": {},
   "source": [
    "**41-write python program to Remove keys with Values Greater than K ( Including mixed values )\n",
    "nput : test_dict = {‘Gfg’ : 3, ‘is’ : 7, ‘best’ : 10, ‘for’ : 6, ‘geeks’ : ‘CS’},\n",
    "K = 7 \n",
    "Output : {‘Gfg’ : 3, ‘for’ : 6, ‘geeks’ : ‘CS’}"
   ]
  },
  {
   "cell_type": "code",
   "execution_count": 34,
   "id": "e39c3a40",
   "metadata": {},
   "outputs": [
    {
     "data": {
      "text/plain": [
       "{'Gfg': 3, 'for': 6}"
      ]
     },
     "execution_count": 34,
     "metadata": {},
     "output_type": "execute_result"
    }
   ],
   "source": [
    "def remove_keys( dic , k):\n",
    "    new_dic= {}\n",
    "    for key in dic:\n",
    "        if ( type(dic[key]) == int):\n",
    "            if( dic[key] < 7):\n",
    "                new_dic[key] = dic[key]\n",
    "    return new_dic\n",
    "\n",
    "remove_keys( {\"Gfg\" : 3, \"is\" : 7, \"best\" : 10, \"for\" : 6, \"geeks\" : \"CS\"} , 7)"
   ]
  },
  {
   "cell_type": "markdown",
   "id": "f143f0fe",
   "metadata": {},
   "source": [
    "**42-Write a Python program to concatenate the following dictionaries to create a new one\n",
    "\n",
    "Sample Dictionary :\n",
    "dic1={1:10, 2:20}\n",
    "dic2={3:30, 4:40}\n",
    "dic3={5:50,6:60}\n",
    "Expected Result : {1: 10, 2: 20, 3: 30, 4: 40, 5: 50, 6: 60}"
   ]
  },
  {
   "cell_type": "code",
   "execution_count": 45,
   "id": "74ffdfea",
   "metadata": {},
   "outputs": [
    {
     "data": {
      "text/plain": [
       "{1: 10, 2: 20, 3: 30, 4: 40, 5: 50, 6: 60}"
      ]
     },
     "execution_count": 45,
     "metadata": {},
     "output_type": "execute_result"
    }
   ],
   "source": [
    "def concate(*dicts):\n",
    "    res= {}\n",
    "    for dictionary in dicts:\n",
    "        res.update(dictionary)\n",
    "    return res\n",
    "\n",
    "concate({1:10, 2:20}, {3:30, 4:40} , {5:50,6:60})"
   ]
  },
  {
   "cell_type": "markdown",
   "id": "fb04c93c",
   "metadata": {},
   "source": [
    "**43-Write a Python program to iterate over dictionaries using for loops"
   ]
  },
  {
   "cell_type": "code",
   "execution_count": 100,
   "id": "6aebc470",
   "metadata": {},
   "outputs": [
    {
     "name": "stdout",
     "output_type": "stream",
     "text": [
      "key is: Gfg , value is: 3\n",
      "key is: is , value is: 7\n",
      "key is: best , value is: 10\n",
      "key is: for , value is: 6\n",
      "key is: geeks , value is: CS\n"
     ]
    }
   ],
   "source": [
    "def iterate_over_dictionary( d ):\n",
    "    for key , value in d.items():\n",
    "        print(f\"key is: {key} , value is: {value}\")\n",
    "        \n",
    "iterate_over_dictionary( {\"Gfg\" : 3, \"is\" : 7, \"best\" : 10, \"for\" : 6, \"geeks\" : \"CS\"} )"
   ]
  },
  {
   "cell_type": "markdown",
   "id": "5f491a9d",
   "metadata": {},
   "source": [
    "**44- Write a Python script to merge two Python dictionaries"
   ]
  },
  {
   "cell_type": "code",
   "execution_count": 48,
   "id": "b8a14028",
   "metadata": {},
   "outputs": [
    {
     "data": {
      "text/plain": [
       "{1: 10, 2: 20, 3: 30, 4: 40}"
      ]
     },
     "execution_count": 48,
     "metadata": {},
     "output_type": "execute_result"
    }
   ],
   "source": [
    "def merge(dict1 , dict2):\n",
    "    new_dict= { **dict1 , **dict2 }\n",
    "    return new_dict\n",
    "\n",
    "merge( {1:10, 2:20} , {3:30, 4:40} )"
   ]
  },
  {
   "cell_type": "markdown",
   "id": "216fc72d",
   "metadata": {},
   "source": [
    "**45-Write a Python program to get the maximum and minimum values of a dictionary values"
   ]
  },
  {
   "cell_type": "code",
   "execution_count": 50,
   "id": "d6883f5f",
   "metadata": {},
   "outputs": [
    {
     "name": "stdout",
     "output_type": "stream",
     "text": [
      "The maximum value is: 40\n",
      "The minimum value is: 10\n"
     ]
    }
   ],
   "source": [
    "def max_minv(dictionary):\n",
    "    mx= max(dictionary.values())\n",
    "    mn= min(dictionary.values())\n",
    "    \n",
    "    return mx , mn\n",
    "\n",
    "max_value , min_value =max_minv({1: 10, 2: 20, 3: 30, 4: 40})\n",
    "print(f\"The maximum value is: {max_value}\")\n",
    "print(f\"The minimum value is: {min_value}\")"
   ]
  },
  {
   "cell_type": "markdown",
   "id": "b6a53011",
   "metadata": {},
   "source": [
    "**46- Write a Python program to drop empty items from a given dictionary.\n",
    "Original Dictionary:\n",
    "{'c1': 'Red', 'c2': 'Green', 'c3': None}\n",
    "New Dictionary after dropping empty items:\n",
    "{'c1': 'Red', 'c2': 'Green'}"
   ]
  },
  {
   "cell_type": "code",
   "execution_count": 58,
   "id": "b5c6fecf",
   "metadata": {},
   "outputs": [
    {
     "data": {
      "text/plain": [
       "{'c1': 'Red', 'c2': 'Green'}"
      ]
     },
     "execution_count": 58,
     "metadata": {},
     "output_type": "execute_result"
    }
   ],
   "source": [
    "def drop_none(dictionary):\n",
    "    copy= dictionary.copy()\n",
    "    for key , value in copy.items():\n",
    "        if value is None:\n",
    "            dictionary.pop(key)\n",
    "            \n",
    "    return dictionary\n",
    "\n",
    "drop_none( {'c1': 'Red', 'c2': 'Green', 'c3': None} )"
   ]
  },
  {
   "cell_type": "markdown",
   "id": "46d718c7",
   "metadata": {},
   "source": [
    "**47-Write a Python program to create a tuple of numbers and print one item"
   ]
  },
  {
   "cell_type": "code",
   "execution_count": 121,
   "id": "13216ff5",
   "metadata": {},
   "outputs": [
    {
     "data": {
      "text/plain": [
       "3"
      ]
     },
     "execution_count": 121,
     "metadata": {},
     "output_type": "execute_result"
    }
   ],
   "source": [
    "import random\n",
    "def print_element(t):\n",
    "    random_index= random.randint(0 ,len(t) - 1)\n",
    "    return t[random_index]\n",
    "\n",
    "print_element((1,2,3,4,5))"
   ]
  },
  {
   "cell_type": "markdown",
   "id": "2be5b56b",
   "metadata": {},
   "source": [
    "**48-Write a Python program to unpack a tuple into several variables"
   ]
  },
  {
   "cell_type": "code",
   "execution_count": 124,
   "id": "595f44be",
   "metadata": {},
   "outputs": [
    {
     "data": {
      "text/plain": [
       "[1, 2, 3, 4, 5]"
      ]
     },
     "execution_count": 124,
     "metadata": {},
     "output_type": "execute_result"
    }
   ],
   "source": [
    "def unpack(t):\n",
    "    *V, =t\n",
    "    return v\n",
    "\n",
    "unpack((1,2,3,4))"
   ]
  },
  {
   "cell_type": "markdown",
   "id": "392388a7",
   "metadata": {},
   "source": [
    "**49-Write a Python program to add an item to a tuple"
   ]
  },
  {
   "cell_type": "code",
   "execution_count": 67,
   "id": "54cc092e",
   "metadata": {},
   "outputs": [
    {
     "data": {
      "text/plain": [
       "(2, 2, 3, 5)"
      ]
     },
     "execution_count": 67,
     "metadata": {},
     "output_type": "execute_result"
    }
   ],
   "source": [
    "def add(t , item):\n",
    "    new_t=[]\n",
    "    new_t.append(item)\n",
    "    t += tuple (new_t)\n",
    "    return t\n",
    "\n",
    "add((2,2,3) , 5)"
   ]
  },
  {
   "cell_type": "markdown",
   "id": "3e8fd124",
   "metadata": {},
   "source": [
    "**50-Write a Python program to convert a tuple to a string"
   ]
  },
  {
   "cell_type": "code",
   "execution_count": 73,
   "id": "92a71ddc",
   "metadata": {},
   "outputs": [
    {
     "data": {
      "text/plain": [
       "'shahd'"
      ]
     },
     "execution_count": 73,
     "metadata": {},
     "output_type": "execute_result"
    }
   ],
   "source": [
    "def tuple_to_string(t):\n",
    "    return str(\"\".join(t))\n",
    "\n",
    "tuple_to_string((\"s\",\"h\",\"a\",\"h\",\"d\"))"
   ]
  },
  {
   "cell_type": "markdown",
   "id": "f4f64ef4",
   "metadata": {},
   "source": [
    "**51-Write a Python program to convert a list to a tuple"
   ]
  },
  {
   "cell_type": "code",
   "execution_count": 76,
   "id": "210d56d3",
   "metadata": {},
   "outputs": [
    {
     "data": {
      "text/plain": [
       "[1, 2, 3, 4, 5, 6]"
      ]
     },
     "execution_count": 76,
     "metadata": {},
     "output_type": "execute_result"
    }
   ],
   "source": [
    "def tuple_to_list(t):\n",
    "    return list(t)\n",
    "\n",
    "tuple_to_list((1,2,3,4,5,6))"
   ]
  },
  {
   "cell_type": "markdown",
   "id": "b1e00ef7",
   "metadata": {},
   "source": [
    "**52-Write a Python program to reverse a tuple"
   ]
  },
  {
   "cell_type": "code",
   "execution_count": 77,
   "id": "f45bfdc7",
   "metadata": {},
   "outputs": [
    {
     "data": {
      "text/plain": [
       "(7, 6, 5, 4, 3, 2, 1)"
      ]
     },
     "execution_count": 77,
     "metadata": {},
     "output_type": "execute_result"
    }
   ],
   "source": [
    "def reverse_tuble(t):\n",
    "    return t[::-1]\n",
    "\n",
    "reverse_tuble( (1,2,3,4,5,6,7) )"
   ]
  },
  {
   "cell_type": "markdown",
   "id": "3cd347d1",
   "metadata": {},
   "source": [
    "**53-Write a Python program to replace the last value of tuples in a list.\n",
    "Sample list: [(10, 20, 40), (40, 50, 60), (70, 80, 90)]\n",
    "Expected Output: [(10, 20, 100), (40, 50, 100), (70, 80, 100)]"
   ]
  },
  {
   "cell_type": "code",
   "execution_count": 44,
   "id": "3c4a2a4c",
   "metadata": {},
   "outputs": [
    {
     "data": {
      "text/plain": [
       "[(10, 20, 100), (40, 50, 100), (70, 80, 100)]"
      ]
     },
     "execution_count": 44,
     "metadata": {},
     "output_type": "execute_result"
    }
   ],
   "source": [
    "def replace(l , value):\n",
    "    res=[]\n",
    "    for i in range(len(l)):\n",
    "        l[i]= list(l[i])\n",
    "        l[i][-1]= value\n",
    "        l[i]= tuple(l[i])\n",
    "        \n",
    "    return l\n",
    "\n",
    "test= [(10, 20, 40), (40, 50, 60), (70, 80, 90)]\n",
    "replace(test , 100)"
   ]
  },
  {
   "cell_type": "markdown",
   "id": "76bb7b39",
   "metadata": {},
   "source": [
    "**54-Write a Python program to convert a given string list to a tuple\n",
    "Original string: python 3.0\n",
    "<class 'str'>\n",
    "Convert the said string to a tuple:\n",
    "('p', 'y', 't', 'h', 'o', 'n', '3', '.', '0')"
   ]
  },
  {
   "cell_type": "code",
   "execution_count": 127,
   "id": "51951937",
   "metadata": {},
   "outputs": [
    {
     "data": {
      "text/plain": [
       "('s', 'h', 'a', 'h', 'd')"
      ]
     },
     "execution_count": 127,
     "metadata": {},
     "output_type": "execute_result"
    }
   ],
   "source": [
    "def string_to_tuple(string):\n",
    "    return tuple(string)\n",
    "\n",
    "string_to_tuple(\"shahd\")"
   ]
  },
  {
   "cell_type": "markdown",
   "id": "5a1d5d97",
   "metadata": {},
   "source": [
    "**55-Write a Python program to calculate the average value of the numbers in a given tuple of tuples"
   ]
  },
  {
   "cell_type": "code",
   "execution_count": 140,
   "id": "834e7992",
   "metadata": {},
   "outputs": [
    {
     "data": {
      "text/plain": [
       "3.5"
      ]
     },
     "execution_count": 140,
     "metadata": {},
     "output_type": "execute_result"
    }
   ],
   "source": [
    "def average(t):\n",
    "    summation=0\n",
    "    count=0\n",
    "    \n",
    "    for tupl in t:\n",
    "        for number in tupl:\n",
    "            summation += number\n",
    "            count += 1\n",
    "            \n",
    "    average= summation / count\n",
    "    \n",
    "    return average\n",
    "\n",
    "average(((1,2,3), (4,5,6)))"
   ]
  },
  {
   "cell_type": "markdown",
   "id": "51edab9c",
   "metadata": {},
   "source": [
    "**56-Write a Python program to add member(s) to a set."
   ]
  },
  {
   "cell_type": "code",
   "execution_count": 86,
   "id": "2b65df79",
   "metadata": {},
   "outputs": [
    {
     "data": {
      "text/plain": [
       "{1, 2, 4, 6, 7, 8, 10, 12, 13}"
      ]
     },
     "execution_count": 86,
     "metadata": {},
     "output_type": "execute_result"
    }
   ],
   "source": [
    "def add_to_set(s , *items):\n",
    "    for element in items:\n",
    "        s.add(element)\n",
    "    return s\n",
    "\n",
    "add_to_set({4,6,7,8,1,2} , 10,12,13)"
   ]
  },
  {
   "cell_type": "markdown",
   "id": "965590cc",
   "metadata": {},
   "source": [
    "**57-Write a Python program to remove an item from a set if it is present in the set."
   ]
  },
  {
   "cell_type": "code",
   "execution_count": 137,
   "id": "866bab28",
   "metadata": {},
   "outputs": [
    {
     "name": "stdout",
     "output_type": "stream",
     "text": [
      "Number not exist in the set\n"
     ]
    }
   ],
   "source": [
    "def remove_item( set_test , item ):\n",
    "    try:\n",
    "        set_test.remove(item)\n",
    "        \n",
    "    except KeyError:\n",
    "        print(\"Number not exist in the set\")\n",
    "        \n",
    "    else:\n",
    "        print(\"Number has been removed\")\n",
    "        return s\n",
    "\n",
    "remove_item({1,2,3,4,5} , 10)"
   ]
  },
  {
   "cell_type": "markdown",
   "id": "2b7cfed1",
   "metadata": {},
   "source": [
    "**58-Write a Python program to create an intersection,union,difference and symmetric difference of sets"
   ]
  },
  {
   "cell_type": "code",
   "execution_count": 46,
   "id": "7f94b7fe",
   "metadata": {},
   "outputs": [
    {
     "name": "stdout",
     "output_type": "stream",
     "text": [
      "The intersection is: {3}\n",
      "The difference is: {1, 2}\n",
      "The symmetric difference is: {1, 2, 4, 5}\n"
     ]
    }
   ],
   "source": [
    "def set_functions(s1 , s2):\n",
    "    return s1.intersection(s2) , s1.difference(s2) , s1.symmetric_difference(s2)\n",
    "\n",
    "intersect , diff , sym_diff= set_functions({1,2,3},{3,4,5})\n",
    "\n",
    "print(f\"The intersection is: {intersect}\\nThe difference is: {diff}\\nThe symmetric difference is: {sym_diff}\")"
   ]
  },
  {
   "cell_type": "markdown",
   "id": "b94931e2",
   "metadata": {},
   "source": [
    "**59-Write a Python program to find the maximum and minimum values in a set"
   ]
  },
  {
   "cell_type": "code",
   "execution_count": 34,
   "id": "203f9600",
   "metadata": {},
   "outputs": [
    {
     "name": "stdout",
     "output_type": "stream",
     "text": [
      "Enter the set of numbers: 7 9 2 0 3\n",
      "the maximum number is: 9\n",
      "the minimum number is: 0\n"
     ]
    }
   ],
   "source": [
    "def max_min(s):\n",
    "    mx= max(s)\n",
    "    mn= min(s)\n",
    "    return mx , mn\n",
    "\n",
    "nums= set(map(int , input(\"Enter the set of numbers: \").split()))\n",
    "max_number , min_number =max_min(nums)\n",
    "\n",
    "print(f\"the maximum number is: {max_number}\")\n",
    "print(f\"the minimum number is: {min_number}\")"
   ]
  },
  {
   "cell_type": "markdown",
   "id": "255fd554",
   "metadata": {},
   "source": [
    "**60- Write a Python program that finds all pairs of elements in a list whose sum is equal to a given value."
   ]
  },
  {
   "cell_type": "code",
   "execution_count": 45,
   "id": "c2d94e1f",
   "metadata": {},
   "outputs": [
    {
     "data": {
      "text/plain": [
       "[(1, 4), (2, 3)]"
      ]
     },
     "execution_count": 45,
     "metadata": {},
     "output_type": "execute_result"
    }
   ],
   "source": [
    "def pairs_sum( l , value):\n",
    "    pairs=[]\n",
    "    pair=[]\n",
    "    for i in range(len(l)):\n",
    "        for j in range(i+1 ,len(l)):\n",
    "            if i == j:\n",
    "                continue\n",
    "            else:\n",
    "                if(l[i] + l[j] == value):\n",
    "                    pair.extend([l[i] , l[j]])\n",
    "                    pairs.append(tuple(pair))\n",
    "                    pair=[]\n",
    "    return pairs\n",
    "\n",
    "pairs_sum([1,2,3,4,6] ,5 )"
   ]
  }
 ],
 "metadata": {
  "kernelspec": {
   "display_name": "Python 3 (ipykernel)",
   "language": "python",
   "name": "python3"
  },
  "language_info": {
   "codemirror_mode": {
    "name": "ipython",
    "version": 3
   },
   "file_extension": ".py",
   "mimetype": "text/x-python",
   "name": "python",
   "nbconvert_exporter": "python",
   "pygments_lexer": "ipython3",
   "version": "3.11.5"
  }
 },
 "nbformat": 4,
 "nbformat_minor": 5
}
